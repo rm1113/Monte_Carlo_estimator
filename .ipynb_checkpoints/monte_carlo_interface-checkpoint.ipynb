{
 "cells": [
  {
   "cell_type": "code",
   "execution_count": 1,
   "metadata": {},
   "outputs": [],
   "source": [
    "from estimator import McEstimator"
   ]
  },
  {
   "cell_type": "markdown",
   "metadata": {},
   "source": [
    "## Для работы с .csv файлами "
   ]
  },
  {
   "cell_type": "code",
   "execution_count": 2,
   "metadata": {},
   "outputs": [
    {
     "name": "stdout",
     "output_type": "stream",
     "text": [
      "\n",
      "####################################\n",
      "\n",
      "Monte-carlo estimation results:\n",
      "mean value: 4.329 +- 0.271\n",
      "variance: 3.328 +- 0.481\n",
      "\n",
      "###################################\n",
      "\n"
     ]
    },
    {
     "data": {
      "text/plain": [
       "((4.328873613725408, 0.27117715980391777),\n",
       " (3.3278408573263127, 0.48056070125556266))"
      ]
     },
     "execution_count": 2,
     "metadata": {},
     "output_type": "execute_result"
    }
   ],
   "source": [
    "filepath = \"data_csv/Rf256_2014_restored_12_2021.csv\"  # путь к файлу\n",
    "columns = (\"restored\", \"restored_errors\")  # название столбцов содерщахих спектр и его ошибки\n",
    "\n",
    "McEstimator(filepath, columns=columns).estimate_mean_and_variance()"
   ]
  },
  {
   "cell_type": "markdown",
   "metadata": {},
   "source": [
    "## Для работы со спектрами, вбитыми вручную"
   ]
  },
  {
   "cell_type": "code",
   "execution_count": 3,
   "metadata": {},
   "outputs": [
    {
     "name": "stdout",
     "output_type": "stream",
     "text": [
      "\n",
      "####################################\n",
      "\n",
      "Monte-carlo estimation results:\n",
      "mean value: 4.328 +- 0.272\n",
      "variance: 3.327 +- 0.480\n",
      "\n",
      "###################################\n",
      "\n"
     ]
    },
    {
     "data": {
      "text/plain": [
       "((4.327801775940169, 0.2715027324642445),\n",
       " (3.3273437738192304, 0.4797866113516851))"
      ]
     },
     "execution_count": 3,
     "metadata": {},
     "output_type": "execute_result"
    }
   ],
   "source": [
    "distribution = [0.04187204, 0.06191432, 0.06231089, 0.10225622, 0.19197917, 0.25280665, 0.20443458, 0.08242613, 0, 0]\n",
    "errors = [0.0138974655278109, 0.0184757483108243, 0.0210612686490674, 0.0213104012630851, \n",
    "          0.0215874693966592, 0.0216314857573986, 0.0193942636659235, 0.0181898422203212, \n",
    "          0.0137409542386427, 0.0088716374362953]\n",
    "\n",
    "McEstimator(distribution=distribution, errors=errors, fromfile=False).estimate_mean_and_variance()"
   ]
  },
  {
   "cell_type": "markdown",
   "metadata": {},
   "source": [
    "## Справка"
   ]
  },
  {
   "cell_type": "code",
   "execution_count": 9,
   "metadata": {},
   "outputs": [
    {
     "name": "stdout",
     "output_type": "stream",
     "text": [
      "Help on class McEstimator in module estimator:\n",
      "\n",
      "class McEstimator(builtins.object)\n",
      " |  McEstimator(filepath=None, distribution=None, errors=None, fromfile=True, columns=('restored', 'restored_errors'))\n",
      " |  \n",
      " |  The class is designed to calculate moments errors of distributions\n",
      " |  with given uncertainties by the Monte-Carlo method.\n",
      " |  \n",
      " |  Methods defined here:\n",
      " |  \n",
      " |  __init__(self, filepath=None, distribution=None, errors=None, fromfile=True, columns=('restored', 'restored_errors'))\n",
      " |      :param filepath: string - csv data file filepath. The method reads data from csv file if fromfile=True.\n",
      " |                          File must contain the same columns as in 'columns' input.\n",
      " |      :param distribution: np.ndarray or any convertable - The given distribution if fromfile=False.\n",
      " |      :param errors: np.ndarray or any convertable - Uncertainties of given distribution if fromfile=False.\n",
      " |      :param fromfile: boolean, default=True - the method reads data from file if True\n",
      " |                                                  and from 'distributon' input else.\n",
      " |      :param columns: couple, optimal - a pair of columns that contains distribution and its errors\n",
      " |                                          in .csv file. (\"restored\", \"restored_errors\") as default.\n",
      " |  \n",
      " |  estimate_mean_and_variance(self, size_=100000, print_result=True)\n",
      " |      The method estimates confidence intervals of expected value and variance\n",
      " |                                      of distribution using Monte-carlo method.\n",
      " |      :param size_: int, optional - The sample size for Monte-Carlo simulation\n",
      " |      :param print_result: boolean, optional - The method prints result if True\n",
      " |                                                        and just return it else\n",
      " |      :return: couple of couple of floats\n",
      " |              (mean, mean_error), (variance, variance_error) - estimation results\n",
      " |  \n",
      " |  ----------------------------------------------------------------------\n",
      " |  Static methods defined here:\n",
      " |  \n",
      " |  mean(distribution, x=None)\n",
      " |      The method calculates an expected value E(X) of random variable X\n",
      " |                                      with the given distribution P(X).\n",
      " |          E(X) = sum(E(Xi) * P(Xi))\n",
      " |      :param distribution:  np.ndarray - Given distribution\n",
      " |      :param x: np.ndarray, optional - Bins of distribution. Range(len(distribution)) as default.\n",
      " |      :return: float - An expected value of X\n",
      " |  \n",
      " |  var(distribution, x=None)\n",
      " |      The method calculates a variance V(X) of random variable X\n",
      " |                                      with given distribution P(X).\n",
      " |                                      V(X) = sum(P(Xi) * (Xi - E(X))^2)\n",
      " |      :param distribution: np.ndarray - Given distribution\n",
      " |      :param x: np.ndarray, optional - Bins of distribution. Range(len(distribution)) as default.\n",
      " |      :return: float - A variance of X\n",
      " |  \n",
      " |  ----------------------------------------------------------------------\n",
      " |  Data descriptors defined here:\n",
      " |  \n",
      " |  __dict__\n",
      " |      dictionary for instance variables (if defined)\n",
      " |  \n",
      " |  __weakref__\n",
      " |      list of weak references to the object (if defined)\n",
      "\n"
     ]
    }
   ],
   "source": [
    "help(McEstimator)"
   ]
  }
 ],
 "metadata": {
  "kernelspec": {
   "display_name": "Python 3",
   "language": "python",
   "name": "python3"
  },
  "language_info": {
   "codemirror_mode": {
    "name": "ipython",
    "version": 3
   },
   "file_extension": ".py",
   "mimetype": "text/x-python",
   "name": "python",
   "nbconvert_exporter": "python",
   "pygments_lexer": "ipython3",
   "version": "3.7.6"
  }
 },
 "nbformat": 4,
 "nbformat_minor": 4
}
